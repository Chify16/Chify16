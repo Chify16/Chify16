{
  "nbformat": 4,
  "nbformat_minor": 0,
  "metadata": {
    "colab": {
      "provenance": [],
      "authorship_tag": "ABX9TyM9g33948zAK39upXfHFGEr",
      "include_colab_link": true
    },
    "kernelspec": {
      "name": "python3",
      "display_name": "Python 3"
    },
    "language_info": {
      "name": "python"
    }
  },
  "cells": [
    {
      "cell_type": "markdown",
      "metadata": {
        "id": "view-in-github",
        "colab_type": "text"
      },
      "source": [
        "<a href=\"https://colab.research.google.com/github/Chify16/Chify16/blob/main/bank_CLI_app.ipynb\" target=\"_parent\"><img src=\"https://colab.research.google.com/assets/colab-badge.svg\" alt=\"Open In Colab\"/></a>"
      ]
    },
    {
      "cell_type": "markdown",
      "source": [],
      "metadata": {
        "id": "E5aPk1lX-7dd"
      }
    },
    {
      "cell_type": "markdown",
      "source": [
        "Python-based CLI banking application that includes the following:\n",
        "### Proposed Solution:\n",
        "This solution proposes the development of a Python-based CLI application to\n",
        "manage bank accounts. This system will store account information in memory during runtime and provide a menu-driven interface for performing the required operations.\n",
        "The system will utilize Python data structures (dictionaries and lists) and fundamental programming concepts (functions, loops, conditional statements) to manage account data and transaction history.\n",
        "\n",
        "### ✅ Features Implemented:\n",
        "1. **Account Creation** with unique account numbers and initial balances.\n",
        "2. **Deposit Transactions** with balance updates and transaction recording.\n",
        "3. **Withdrawal Transactions** with balance checks and transaction recording.\n",
        "4. **Balance Inquiry** for specific accounts.\n",
        "5. **Transaction History** viewing.\n",
        "6. **Menu-Driven CLI Interface** using loops and conditionals.\n",
        "7. **Basic Error Handling** for invalid inputs and insufficient funds.\n",
        "---------------------------------------------------------------------------\n",
        "Note:\n",
        "The application uses `input()` for user interaction."
      ],
      "metadata": {
        "id": "_9ixjXYP_KYp"
      }
    },
    {
      "cell_type": "markdown",
      "source": [],
      "metadata": {
        "id": "_XSiypoz_C7A"
      }
    },
    {
      "cell_type": "code",
      "source": [
        "\n",
        "# SecureSave Bank CLI Application\n",
        "\n",
        "import random #for randomised account number generation.\n",
        "\n",
        "# Data structure to store account details\n",
        "accounts = {}\n",
        "\n",
        "def create_account(initial_balance):\n",
        "    account_number = random.randint(100000, 999999)\n",
        "    while account_number in accounts:\n",
        "        account_number = random.randint(100000, 999999)\n",
        "    accounts[account_number] = {\n",
        "        'balance': initial_balance,\n",
        "        'transactions': []\n",
        "    }\n",
        "    print(f\"Account created successfully. Your account number is {account_number}\")\n",
        "\n"
      ],
      "metadata": {
        "id": "BC-xVdK-kf9E"
      },
      "execution_count": 1,
      "outputs": []
    },
    {
      "cell_type": "code",
      "source": [
        "def deposit(account_number, amount): # Deposit function\n",
        "    if account_number in accounts:\n",
        "        accounts[account_number]['balance'] += amount\n",
        "        accounts[account_number]['transactions'].append(f\"Deposited {amount}\")\n",
        "        print(f\"Deposited {amount} successfully.\")\n",
        "    else:\n",
        "        print(\"Invalid account number.\")\n",
        "\n",
        "def withdraw(account_number, amount): # withdrawal function\n",
        "    if account_number in accounts:\n",
        "        if accounts[account_number]['balance'] >= amount:\n",
        "            accounts[account_number]['balance'] -= amount\n",
        "            accounts[account_number]['transactions'].append(f\"Withdrew {amount}\")\n",
        "            print(f\"Withdrew {amount} successfully.\")\n",
        "        else:\n",
        "            print(\"Insufficient funds.\")\n",
        "    else:\n",
        "        print(\"Invalid account number.\")\n",
        "\n",
        "\n",
        "def check_balance(account_number): # Check balance function\n",
        "    if account_number in accounts:\n",
        "        print(f\"Current balance: {accounts[account_number]['balance']}\")\n",
        "    else:\n",
        "        print(\"Invalid account number.\")\n",
        "\n",
        "def transaction_history(account_number): # Transaction history function\n",
        "    if account_number in accounts:\n",
        "        print(\"Transaction history:\")\n",
        "        for transaction in accounts[account_number]['transactions']:\n",
        "            print(transaction)\n",
        "    else:\n",
        "       print(\"Invalid account number.\")\n",
        "\n",
        "\n",
        "\n",
        "\n",
        "\n"
      ],
      "metadata": {
        "id": "Dvvmd4n3lyCp"
      },
      "execution_count": 2,
      "outputs": []
    },
    {
      "cell_type": "code",
      "source": [
        "def main(): # Menu function\n",
        "# Initialize initial_balance to None to avoid UnboundLocalError\n",
        "    initial_balance = None\n",
        "    while True:\n",
        "        print(\"\\nSecureSave Bank CLI\")\n",
        "        print(\"1. Create Account\")\n",
        "        print(\"2. Deposit\")\n",
        "        print(\"3. Withdraw\")\n",
        "        print(\"4. Check Balance\")\n",
        "        print(\"5. Transaction History\")\n",
        "        print(\"6. Exit\")\n",
        "\n",
        "        choice = input(\"Enter your choice: \")\n",
        "\n",
        "        if choice == '1':\n",
        "            initial_balance = float(input(\"Enter initial balance: \"))\n",
        "            create_account(initial_balance)\n",
        "        elif choice == '2':\n",
        "            account_number = int(input(\"Enter account number: \"))\n",
        "            amount = float(input(\"Enter amount to deposit: \"))\n",
        "            deposit(account_number, amount)\n",
        "        elif choice == '3':\n",
        "            account_number = int(input(\"Enter account number: \"))\n",
        "            amount = float(input(\"Enter amount to withdraw: \"))\n",
        "            withdraw(account_number, amount)\n",
        "        elif choice == '4':\n",
        "            account_number = int(input(\"Enter account number: \"))\n",
        "            check_balance(account_number)\n",
        "        elif choice == '5':\n",
        "            account_number = int(input(\"Enter account number: \"))\n",
        "            transaction_history(account_number)\n",
        "            print(f\"Initial_deposit: {initial_balance}\")\n",
        "            print(f\"Current_balance: {accounts[account_number]['balance']}\")\n",
        "        elif choice == '6':\n",
        "            print(\"Thank you for banking with us!\")\n",
        "            break\n",
        "        else:\n",
        "            print(\"Invalid choice. Please try again.\")\n",
        "\n",
        "\n",
        "\n",
        "if __name__ == \"__main__\":\n",
        "  main()\n",
        "\n",
        "\n",
        "# Save the code to a file named 'secure_save_bank.py'\n",
        "with open('secure_save_bank.py', 'w') as f:\n",
        "  f.write(\"\"\"# SecureSave Bank CLI Application\"\"\")\n"
      ],
      "metadata": {
        "colab": {
          "base_uri": "https://localhost:8080/"
        },
        "id": "pwgo5im6mV2t",
        "outputId": "c1edc065-81b6-4175-a79e-ea9c4713248c"
      },
      "execution_count": 7,
      "outputs": [
        {
          "output_type": "stream",
          "name": "stdout",
          "text": [
            "\n",
            "SecureSave Bank CLI\n",
            "1. Create Account\n",
            "2. Deposit\n",
            "3. Withdraw\n",
            "4. Check Balance\n",
            "5. Transaction History\n",
            "6. Exit\n",
            "Enter your choice: 6\n",
            "Thank you for banking with us!\n"
          ]
        }
      ]
    },
    {
      "cell_type": "code",
      "source": [
        "main()\n"
      ],
      "metadata": {
        "colab": {
          "base_uri": "https://localhost:8080/"
        },
        "id": "rP3OvhqcIq88",
        "outputId": "6a9ab6a1-9a20-4062-b222-97a4c3e1df63"
      },
      "execution_count": null,
      "outputs": [
        {
          "name": "stdout",
          "output_type": "stream",
          "text": [
            "\n",
            "SecureSave Bank CLI\n",
            "1. Create Account\n",
            "2. Deposit\n",
            "3. Withdraw\n",
            "4. Check Balance\n",
            "5. Transaction History\n",
            "6. Exit\n",
            "Enter your choice: 3\n"
          ]
        }
      ]
    }
  ]
}