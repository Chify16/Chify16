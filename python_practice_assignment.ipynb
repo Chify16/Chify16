{
  "cells": [
    {
      "cell_type": "markdown",
      "metadata": {
        "id": "view-in-github",
        "colab_type": "text"
      },
      "source": [
        "<a href=\"https://colab.research.google.com/github/Chify16/Chify16/blob/main/python_practice_assignment.ipynb\" target=\"_parent\"><img src=\"https://colab.research.google.com/assets/colab-badge.svg\" alt=\"Open In Colab\"/></a>"
      ]
    },
    {
      "cell_type": "markdown",
      "id": "0249d955",
      "metadata": {
        "id": "0249d955"
      },
      "source": [
        "## Python Basics Assignment: Student Data Management"
      ]
    },
    {
      "cell_type": "markdown",
      "id": "a92e1519",
      "metadata": {
        "id": "a92e1519"
      },
      "source": [
        "#### Objective:\n",
        "The goal of this assignment is to help students practice essential Python programming concepts, including data types, data structures (lists and dictionaries), conditional statements, loops, and functions. By creating a simple student data management system, students will apply these concepts to organize, manipulate, and analyze data, while also gaining experience in structuring Python programs and solving real-world problems.\n",
        "\n"
      ]
    },
    {
      "cell_type": "markdown",
      "id": "c2628c45",
      "metadata": {
        "id": "c2628c45"
      },
      "source": [
        "### Task Breakdown:\n",
        "\n",
        "#### 1. Create a List of Dictionaries:\n",
        "Create a list called students, where each student is represented by a dictionary containing the following keys: name, age, and grade. Here is an example:"
      ]
    },
    {
      "cell_type": "code",
      "execution_count": 21,
      "id": "bfad03f3",
      "metadata": {
        "id": "bfad03f3"
      },
      "outputs": [],
      "source": [
        "#Creating a List of Dictionaries:\n",
        "students = [\n",
        "    {\"name\": \"Alice\", \"age\": 21, \"grade\": 85},\n",
        "    {\"name\": \"Bob\", \"age\": 22, \"grade\": 78},\n",
        "    {\"name\": \"Charlie\", \"age\": 20, \"grade\": 92},\n",
        "    {\"name\": \"Oge\", \"age\": 23, \"grade\": 95},# additional student\n",
        "    {\"name\": \"Ify\", \"age\": 25, \"grade\": 98}# additional student\n",
        "]\n"
      ]
    },
    {
      "cell_type": "markdown",
      "id": "a0a02a8c",
      "metadata": {
        "id": "a0a02a8c"
      },
      "source": [
        "This list should contain at least 5 students. Feel free to come up with your own names, ages, and grades."
      ]
    },
    {
      "cell_type": "markdown",
      "id": "b24bdaa5",
      "metadata": {
        "id": "b24bdaa5"
      },
      "source": [
        "#### 2. Function 1: Calculate Average Grade\n",
        "Write a function called calculate_average_grade() that calculates and returns the average grade of all students in the list.\n",
        "\n",
        "Hint: You can sum all the grades and divide by the number of students."
      ]
    },
    {
      "cell_type": "code",
      "execution_count": 7,
      "id": "625e7cae",
      "metadata": {
        "colab": {
          "base_uri": "https://localhost:8080/"
        },
        "id": "625e7cae",
        "outputId": "4234b2a1-48f1-48ea-c604-53f62e2287ad"
      },
      "outputs": [
        {
          "output_type": "stream",
          "name": "stdout",
          "text": [
            "Students average score is 89.6\n"
          ]
        }
      ],
      "source": [
        "# average grade fuction\n",
        "def calculate_average_grade(students): # define the function\n",
        "  total_grade = 0 # initialising running total grade\n",
        "  for student in students: # looping through the list\n",
        "    total_grade += student[\"grade\"] # Add the current student's grade to the running total\n",
        "\n",
        "  average_grade = total_grade / len(students) # divide total grade by the number of students\n",
        "  return average_grade\n",
        "average = calculate_average_grade(students)\n",
        "print(f\"Students average score is {average}\")"
      ]
    },
    {
      "cell_type": "markdown",
      "id": "08222005",
      "metadata": {
        "id": "08222005"
      },
      "source": [
        "#### 3. Function 2: Find Passing Students\n",
        "Write a function called `find_passing_students()` that filters and returns a list of students who have a grade above 80.\n",
        "\n",
        "Hint: Use a conditional statement (if/else) to check if the student's grade is above the threshold."
      ]
    },
    {
      "cell_type": "code",
      "execution_count": 22,
      "id": "8e872048",
      "metadata": {
        "colab": {
          "base_uri": "https://localhost:8080/"
        },
        "id": "8e872048",
        "outputId": "e3b0d8aa-e741-454a-f732-029442155428"
      },
      "outputs": [
        {
          "output_type": "stream",
          "name": "stdout",
          "text": [
            "Passing students are [{'name': 'Alice', 'age': 21, 'grade': 85}]\n"
          ]
        }
      ],
      "source": [
        "from os import name\n",
        "def find_passing_students(students):\n",
        "  passing_students = [] # initialising passing student list\n",
        "  for student in students: #looping through the list\n",
        "\n",
        "# Check if the student's grade exceeds 80 and add them to the passing_students list\n",
        "    if student[\"grade\"] > 80:\n",
        "       passing_students.append(student)\n",
        "       return passing_students # Return the list of students who passed\n",
        "\n",
        "# Call the function to find students with grades above 80\n",
        "\n",
        "passing_students = find_passing_students(students)\n",
        "\n",
        "print(f\"Passing students are {passing_students}\")"
      ]
    },
    {
      "cell_type": "code",
      "source": [
        "def find_passing_students(students):\n",
        "    passing_students = []\n",
        "    for student in students:\n",
        "        if student[\"grade\"] > 80:\n",
        "            passing_students.append(student[\"name\"])  # Append only the name\n",
        "    return passing_students\n",
        "\n",
        "passing_students = find_passing_students(students)\n",
        "print(f\"Passing students are:{passing_students}\")"
      ],
      "metadata": {
        "colab": {
          "base_uri": "https://localhost:8080/"
        },
        "id": "0qn3mzwBMmzs",
        "outputId": "611958c4-8ba1-4051-80ec-15aa00c58276"
      },
      "id": "0qn3mzwBMmzs",
      "execution_count": 15,
      "outputs": [
        {
          "output_type": "stream",
          "name": "stdout",
          "text": [
            "Passing students are:['Alice', 'Charlie', 'Oge', 'Ify']\n"
          ]
        }
      ]
    },
    {
      "cell_type": "markdown",
      "id": "26e6185f",
      "metadata": {
        "id": "26e6185f"
      },
      "source": [
        "#### 4. Function 3: Sort Students by Grade\n",
        "Write a function called sort_students_by_grade() that sorts the students by their grade in descending order.\n",
        "\n",
        "Hint: Use a for loop to iterate through the list and sort the students."
      ]
    },
    {
      "cell_type": "code",
      "execution_count": 18,
      "id": "7ea5e517",
      "metadata": {
        "colab": {
          "base_uri": "https://localhost:8080/"
        },
        "id": "7ea5e517",
        "outputId": "d682771a-216f-4d83-c664-1d5860a7fbcc"
      },
      "outputs": [
        {
          "output_type": "stream",
          "name": "stdout",
          "text": [
            "Students sorted by grade (descending):\n",
            "Ify - Grade: 98\n",
            "Oge - Grade: 95\n",
            "Charlie - Grade: 92\n",
            "Alice - Grade: 85\n",
            "Bob - Grade: 78\n"
          ]
        }
      ],
      "source": [
        "def sort_students_by_grade(students):\n",
        "\n",
        "    for i in range(len(students)):# outer loop iteration\n",
        "        for j in range(i + 1, len(students)):# inner loop\n",
        "            if students[i][\"grade\"] < students[j][\"grade\"]:  # Compare grades\n",
        "                students[i], students[j] = students[j], students[i]\n",
        "    return students\n",
        "\n",
        "sorted_students = sort_students_by_grade(students)\n",
        "print(\"Students sorted by grade (descending):\")\n",
        "for student in sorted_students:\n",
        "    print(f\"{student['name']} - Grade: {student['grade']}\")"
      ]
    },
    {
      "cell_type": "markdown",
      "id": "549507c7",
      "metadata": {
        "id": "549507c7"
      },
      "source": [
        "#### 5 Loop Through and Print Students\n",
        "Use a for loop to iterate through the list of students and print out each student’s name and grade in a nice format. For example, the output should look like:\n",
        "\n",
        "Student: Alice, Grade: 85\n"
      ]
    },
    {
      "cell_type": "code",
      "execution_count": 20,
      "id": "251e1147",
      "metadata": {
        "colab": {
          "base_uri": "https://localhost:8080/"
        },
        "id": "251e1147",
        "outputId": "12b83e03-3935-4e1f-fd71-fec017e59f68"
      },
      "outputs": [
        {
          "output_type": "stream",
          "name": "stdout",
          "text": [
            "Students sorted by grade (descending):\n",
            "Student:Ify, Grade: 98\n",
            "Student:Oge, Grade: 95\n",
            "Student:Charlie, Grade: 92\n",
            "Student:Alice, Grade: 85\n",
            "Student:Bob, Grade: 78\n"
          ]
        }
      ],
      "source": [
        "def sort_students_by_grade(students):\n",
        "\n",
        "    for i in range(len(students)):\n",
        "        for j in range(i + 1, len(students)):\n",
        "            if students[i][\"grade\"] < students[j][\"grade\"]:  # Compare grades\n",
        "                students[i], students[j] = students[j], students[i]\n",
        "    return students\n",
        "\n",
        "sorted_students = sort_students_by_grade(students)\n",
        "print(\"Students sorted by grade (descending):\")\n",
        "for student in sorted_students:\n",
        "    print(f\"Student:{student['name']}, Grade: {student['grade']}\")"
      ]
    },
    {
      "cell_type": "markdown",
      "id": "b658ec5e",
      "metadata": {
        "id": "b658ec5e"
      },
      "source": [
        "### Submission Instructions:\n",
        "* Complete the program and submit the Python notebook via the classroom.\n",
        "* Make sure your code is clean, well-commented, and follows proper Python conventions.\n",
        "* Ensure that all functions are working correctly and produce the expected results.\n",
        "\n"
      ]
    }
  ],
  "metadata": {
    "kernelspec": {
      "display_name": "Python 3",
      "language": "python",
      "name": "python3"
    },
    "language_info": {
      "codemirror_mode": {
        "name": "ipython",
        "version": 3
      },
      "file_extension": ".py",
      "mimetype": "text/x-python",
      "name": "python",
      "nbconvert_exporter": "python",
      "pygments_lexer": "ipython3",
      "version": "3.12.10"
    },
    "colab": {
      "provenance": [],
      "include_colab_link": true
    }
  },
  "nbformat": 4,
  "nbformat_minor": 5
}